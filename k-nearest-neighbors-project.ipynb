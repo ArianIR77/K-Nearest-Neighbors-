{
 "cells": [
  {
   "cell_type": "code",
   "execution_count": 1,
   "id": "b9f0c449",
   "metadata": {
    "_cell_guid": "b1076dfc-b9ad-4769-8c92-a6c4dae69d19",
    "_uuid": "8f2839f25d086af736a60e9eeb907d3b93b6e0e5",
    "execution": {
     "iopub.execute_input": "2022-07-18T17:44:21.951515Z",
     "iopub.status.busy": "2022-07-18T17:44:21.951109Z",
     "iopub.status.idle": "2022-07-18T17:44:21.970898Z",
     "shell.execute_reply": "2022-07-18T17:44:21.969424Z"
    },
    "papermill": {
     "duration": 0.030632,
     "end_time": "2022-07-18T17:44:21.974020",
     "exception": false,
     "start_time": "2022-07-18T17:44:21.943388",
     "status": "completed"
    },
    "tags": []
   },
   "outputs": [
    {
     "name": "stdout",
     "output_type": "stream",
     "text": [
      "/kaggle/input/knnproject1/KNN_Project_Data\n"
     ]
    }
   ],
   "source": [
    "# This Python 3 environment comes with many helpful analytics libraries installed\n",
    "# It is defined by the kaggle/python Docker image: https://github.com/kaggle/docker-python\n",
    "# For example, here's several helpful packages to load\n",
    "\n",
    "import numpy as np # linear algebra\n",
    "import pandas as pd # data processing, CSV file I/O (e.g. pd.read_csv)\n",
    "\n",
    "# Input data files are available in the read-only \"../input/\" directory\n",
    "# For example, running this (by clicking run or pressing Shift+Enter) will list all files under the input directory\n",
    "\n",
    "import os\n",
    "for dirname, _, filenames in os.walk('/kaggle/input'):\n",
    "    for filename in filenames:\n",
    "        print(os.path.join(dirname, filename))\n",
    "\n",
    "# You can write up to 20GB to the current directory (/kaggle/working/) that gets preserved as output when you create a version using \"Save & Run All\" \n",
    "# You can also write temporary files to /kaggle/temp/, but they won't be saved outside of the current session"
   ]
  },
  {
   "cell_type": "code",
   "execution_count": 2,
   "id": "68d920e2",
   "metadata": {
    "execution": {
     "iopub.execute_input": "2022-07-18T17:44:21.985792Z",
     "iopub.status.busy": "2022-07-18T17:44:21.985413Z",
     "iopub.status.idle": "2022-07-18T17:44:23.195006Z",
     "shell.execute_reply": "2022-07-18T17:44:23.194065Z"
    },
    "papermill": {
     "duration": 1.217951,
     "end_time": "2022-07-18T17:44:23.197374",
     "exception": false,
     "start_time": "2022-07-18T17:44:21.979423",
     "status": "completed"
    },
    "tags": []
   },
   "outputs": [],
   "source": [
    "import pandas as pd\n",
    "import seaborn as sns\n",
    "import matplotlib.pyplot as plt\n",
    "import numpy as np\n",
    "%matplotlib inline"
   ]
  },
  {
   "cell_type": "code",
   "execution_count": 3,
   "id": "407654fd",
   "metadata": {
    "execution": {
     "iopub.execute_input": "2022-07-18T17:44:23.209012Z",
     "iopub.status.busy": "2022-07-18T17:44:23.207864Z",
     "iopub.status.idle": "2022-07-18T17:44:23.229001Z",
     "shell.execute_reply": "2022-07-18T17:44:23.227815Z"
    },
    "papermill": {
     "duration": 0.029524,
     "end_time": "2022-07-18T17:44:23.231583",
     "exception": false,
     "start_time": "2022-07-18T17:44:23.202059",
     "status": "completed"
    },
    "tags": []
   },
   "outputs": [],
   "source": [
    "df = pd.read_csv('../input/knnproject1/KNN_Project_Data')"
   ]
  },
  {
   "cell_type": "code",
   "execution_count": 4,
   "id": "daeb39e3",
   "metadata": {
    "execution": {
     "iopub.execute_input": "2022-07-18T17:44:23.242649Z",
     "iopub.status.busy": "2022-07-18T17:44:23.242264Z",
     "iopub.status.idle": "2022-07-18T17:44:23.411163Z",
     "shell.execute_reply": "2022-07-18T17:44:23.409905Z"
    },
    "papermill": {
     "duration": 0.177345,
     "end_time": "2022-07-18T17:44:23.413729",
     "exception": false,
     "start_time": "2022-07-18T17:44:23.236384",
     "status": "completed"
    },
    "tags": []
   },
   "outputs": [],
   "source": [
    "from sklearn.preprocessing import StandardScaler"
   ]
  },
  {
   "cell_type": "code",
   "execution_count": 5,
   "id": "141c1701",
   "metadata": {
    "execution": {
     "iopub.execute_input": "2022-07-18T17:44:23.425383Z",
     "iopub.status.busy": "2022-07-18T17:44:23.424269Z",
     "iopub.status.idle": "2022-07-18T17:44:23.429265Z",
     "shell.execute_reply": "2022-07-18T17:44:23.428336Z"
    },
    "papermill": {
     "duration": 0.013166,
     "end_time": "2022-07-18T17:44:23.431643",
     "exception": false,
     "start_time": "2022-07-18T17:44:23.418477",
     "status": "completed"
    },
    "tags": []
   },
   "outputs": [],
   "source": [
    "scaler = StandardScaler()"
   ]
  },
  {
   "cell_type": "code",
   "execution_count": 6,
   "id": "1e8d928d",
   "metadata": {
    "execution": {
     "iopub.execute_input": "2022-07-18T17:44:23.442892Z",
     "iopub.status.busy": "2022-07-18T17:44:23.442217Z",
     "iopub.status.idle": "2022-07-18T17:44:23.521235Z",
     "shell.execute_reply": "2022-07-18T17:44:23.520146Z"
    },
    "papermill": {
     "duration": 0.087465,
     "end_time": "2022-07-18T17:44:23.523857",
     "exception": false,
     "start_time": "2022-07-18T17:44:23.436392",
     "status": "completed"
    },
    "tags": []
   },
   "outputs": [],
   "source": [
    "from sklearn.model_selection import train_test_split"
   ]
  },
  {
   "cell_type": "code",
   "execution_count": 7,
   "id": "cc2ffc50",
   "metadata": {
    "execution": {
     "iopub.execute_input": "2022-07-18T17:44:23.535273Z",
     "iopub.status.busy": "2022-07-18T17:44:23.534863Z",
     "iopub.status.idle": "2022-07-18T17:44:23.552819Z",
     "shell.execute_reply": "2022-07-18T17:44:23.551448Z"
    },
    "papermill": {
     "duration": 0.026258,
     "end_time": "2022-07-18T17:44:23.555006",
     "exception": false,
     "start_time": "2022-07-18T17:44:23.528748",
     "status": "completed"
    },
    "tags": []
   },
   "outputs": [],
   "source": [
    "X= df.drop('TARGET CLASS',axis=1)\n",
    "y= df['TARGET CLASS']"
   ]
  },
  {
   "cell_type": "code",
   "execution_count": 8,
   "id": "5582a89d",
   "metadata": {
    "execution": {
     "iopub.execute_input": "2022-07-18T17:44:23.566254Z",
     "iopub.status.busy": "2022-07-18T17:44:23.565610Z",
     "iopub.status.idle": "2022-07-18T17:44:23.573346Z",
     "shell.execute_reply": "2022-07-18T17:44:23.572407Z"
    },
    "papermill": {
     "duration": 0.015633,
     "end_time": "2022-07-18T17:44:23.575405",
     "exception": false,
     "start_time": "2022-07-18T17:44:23.559772",
     "status": "completed"
    },
    "tags": []
   },
   "outputs": [],
   "source": [
    "X_train, X_test, y_train, y_test = train_test_split(X, y, test_size=0.3, random_state=101)"
   ]
  },
  {
   "cell_type": "code",
   "execution_count": 9,
   "id": "0bd49d45",
   "metadata": {
    "execution": {
     "iopub.execute_input": "2022-07-18T17:44:23.586487Z",
     "iopub.status.busy": "2022-07-18T17:44:23.585722Z",
     "iopub.status.idle": "2022-07-18T17:44:23.593350Z",
     "shell.execute_reply": "2022-07-18T17:44:23.592510Z"
    },
    "papermill": {
     "duration": 0.015301,
     "end_time": "2022-07-18T17:44:23.595324",
     "exception": false,
     "start_time": "2022-07-18T17:44:23.580023",
     "status": "completed"
    },
    "tags": []
   },
   "outputs": [],
   "source": [
    "X_train=scaler.fit_transform(X_train)"
   ]
  },
  {
   "cell_type": "code",
   "execution_count": 10,
   "id": "4c973090",
   "metadata": {
    "execution": {
     "iopub.execute_input": "2022-07-18T17:44:23.606501Z",
     "iopub.status.busy": "2022-07-18T17:44:23.605843Z",
     "iopub.status.idle": "2022-07-18T17:44:23.611251Z",
     "shell.execute_reply": "2022-07-18T17:44:23.610514Z"
    },
    "papermill": {
     "duration": 0.013465,
     "end_time": "2022-07-18T17:44:23.613376",
     "exception": false,
     "start_time": "2022-07-18T17:44:23.599911",
     "status": "completed"
    },
    "tags": []
   },
   "outputs": [],
   "source": [
    "X_test = scaler.transform(X_test)"
   ]
  },
  {
   "cell_type": "code",
   "execution_count": 11,
   "id": "2c9e5a34",
   "metadata": {
    "execution": {
     "iopub.execute_input": "2022-07-18T17:44:23.624876Z",
     "iopub.status.busy": "2022-07-18T17:44:23.624242Z",
     "iopub.status.idle": "2022-07-18T17:44:23.777334Z",
     "shell.execute_reply": "2022-07-18T17:44:23.776211Z"
    },
    "papermill": {
     "duration": 0.162248,
     "end_time": "2022-07-18T17:44:23.780478",
     "exception": false,
     "start_time": "2022-07-18T17:44:23.618230",
     "status": "completed"
    },
    "tags": []
   },
   "outputs": [],
   "source": [
    "from sklearn.neighbors import KNeighborsClassifier"
   ]
  },
  {
   "cell_type": "code",
   "execution_count": 12,
   "id": "e0ac0f27",
   "metadata": {
    "execution": {
     "iopub.execute_input": "2022-07-18T17:44:23.791697Z",
     "iopub.status.busy": "2022-07-18T17:44:23.790632Z",
     "iopub.status.idle": "2022-07-18T17:44:23.795419Z",
     "shell.execute_reply": "2022-07-18T17:44:23.794511Z"
    },
    "papermill": {
     "duration": 0.012443,
     "end_time": "2022-07-18T17:44:23.797502",
     "exception": false,
     "start_time": "2022-07-18T17:44:23.785059",
     "status": "completed"
    },
    "tags": []
   },
   "outputs": [],
   "source": [
    "knn = KNeighborsClassifier(n_neighbors=1)"
   ]
  },
  {
   "cell_type": "code",
   "execution_count": 13,
   "id": "72db020a",
   "metadata": {
    "execution": {
     "iopub.execute_input": "2022-07-18T17:44:23.808173Z",
     "iopub.status.busy": "2022-07-18T17:44:23.807823Z",
     "iopub.status.idle": "2022-07-18T17:44:23.820431Z",
     "shell.execute_reply": "2022-07-18T17:44:23.819128Z"
    },
    "papermill": {
     "duration": 0.020726,
     "end_time": "2022-07-18T17:44:23.822708",
     "exception": false,
     "start_time": "2022-07-18T17:44:23.801982",
     "status": "completed"
    },
    "tags": []
   },
   "outputs": [
    {
     "data": {
      "text/plain": [
       "KNeighborsClassifier(n_neighbors=1)"
      ]
     },
     "execution_count": 13,
     "metadata": {},
     "output_type": "execute_result"
    }
   ],
   "source": [
    "knn.fit(X_train,y_train)"
   ]
  },
  {
   "cell_type": "code",
   "execution_count": 14,
   "id": "13af0912",
   "metadata": {
    "execution": {
     "iopub.execute_input": "2022-07-18T17:44:23.833858Z",
     "iopub.status.busy": "2022-07-18T17:44:23.833481Z",
     "iopub.status.idle": "2022-07-18T17:44:23.849602Z",
     "shell.execute_reply": "2022-07-18T17:44:23.848367Z"
    },
    "papermill": {
     "duration": 0.024727,
     "end_time": "2022-07-18T17:44:23.852189",
     "exception": false,
     "start_time": "2022-07-18T17:44:23.827462",
     "status": "completed"
    },
    "tags": []
   },
   "outputs": [],
   "source": [
    "pred = knn.predict(X_test)"
   ]
  },
  {
   "cell_type": "code",
   "execution_count": 15,
   "id": "f6bb0f01",
   "metadata": {
    "execution": {
     "iopub.execute_input": "2022-07-18T17:44:23.863383Z",
     "iopub.status.busy": "2022-07-18T17:44:23.862974Z",
     "iopub.status.idle": "2022-07-18T17:44:23.867374Z",
     "shell.execute_reply": "2022-07-18T17:44:23.866483Z"
    },
    "papermill": {
     "duration": 0.012437,
     "end_time": "2022-07-18T17:44:23.869340",
     "exception": false,
     "start_time": "2022-07-18T17:44:23.856903",
     "status": "completed"
    },
    "tags": []
   },
   "outputs": [],
   "source": [
    "from sklearn.metrics import classification_report,confusion_matrix"
   ]
  },
  {
   "cell_type": "code",
   "execution_count": 16,
   "id": "b56d8cc6",
   "metadata": {
    "execution": {
     "iopub.execute_input": "2022-07-18T17:44:23.880655Z",
     "iopub.status.busy": "2022-07-18T17:44:23.879899Z",
     "iopub.status.idle": "2022-07-18T17:44:23.888945Z",
     "shell.execute_reply": "2022-07-18T17:44:23.887597Z"
    },
    "papermill": {
     "duration": 0.018156,
     "end_time": "2022-07-18T17:44:23.892156",
     "exception": false,
     "start_time": "2022-07-18T17:44:23.874000",
     "status": "completed"
    },
    "tags": []
   },
   "outputs": [
    {
     "name": "stdout",
     "output_type": "stream",
     "text": [
      "[[110  42]\n",
      " [ 41 107]]\n"
     ]
    }
   ],
   "source": [
    "print(confusion_matrix(y_test,pred))"
   ]
  },
  {
   "cell_type": "code",
   "execution_count": 17,
   "id": "3ad1d81b",
   "metadata": {
    "execution": {
     "iopub.execute_input": "2022-07-18T17:44:23.904224Z",
     "iopub.status.busy": "2022-07-18T17:44:23.903498Z",
     "iopub.status.idle": "2022-07-18T17:44:23.913883Z",
     "shell.execute_reply": "2022-07-18T17:44:23.912262Z"
    },
    "papermill": {
     "duration": 0.019309,
     "end_time": "2022-07-18T17:44:23.916667",
     "exception": false,
     "start_time": "2022-07-18T17:44:23.897358",
     "status": "completed"
    },
    "tags": []
   },
   "outputs": [
    {
     "name": "stdout",
     "output_type": "stream",
     "text": [
      "              precision    recall  f1-score   support\n",
      "\n",
      "           0       0.73      0.72      0.73       152\n",
      "           1       0.72      0.72      0.72       148\n",
      "\n",
      "    accuracy                           0.72       300\n",
      "   macro avg       0.72      0.72      0.72       300\n",
      "weighted avg       0.72      0.72      0.72       300\n",
      "\n"
     ]
    }
   ],
   "source": [
    "print(classification_report(y_test,pred))"
   ]
  },
  {
   "cell_type": "code",
   "execution_count": 18,
   "id": "b6f7977d",
   "metadata": {
    "execution": {
     "iopub.execute_input": "2022-07-18T17:44:23.928580Z",
     "iopub.status.busy": "2022-07-18T17:44:23.927755Z",
     "iopub.status.idle": "2022-07-18T17:44:24.502987Z",
     "shell.execute_reply": "2022-07-18T17:44:24.502186Z"
    },
    "papermill": {
     "duration": 0.58349,
     "end_time": "2022-07-18T17:44:24.505281",
     "exception": false,
     "start_time": "2022-07-18T17:44:23.921791",
     "status": "completed"
    },
    "tags": []
   },
   "outputs": [],
   "source": [
    "error_rate = []\n",
    "\n",
    "# Will take some time\n",
    "for i in range(1,40):\n",
    "    \n",
    "    knn = KNeighborsClassifier(n_neighbors=i)\n",
    "    knn.fit(X_train,y_train)\n",
    "    pred_i = knn.predict(X_test)\n",
    "    error_rate.append(np.mean(pred_i != y_test))"
   ]
  },
  {
   "cell_type": "code",
   "execution_count": 19,
   "id": "56f0a6af",
   "metadata": {
    "execution": {
     "iopub.execute_input": "2022-07-18T17:44:24.518946Z",
     "iopub.status.busy": "2022-07-18T17:44:24.518578Z",
     "iopub.status.idle": "2022-07-18T17:44:24.731276Z",
     "shell.execute_reply": "2022-07-18T17:44:24.730084Z"
    },
    "papermill": {
     "duration": 0.2217,
     "end_time": "2022-07-18T17:44:24.734084",
     "exception": false,
     "start_time": "2022-07-18T17:44:24.512384",
     "status": "completed"
    },
    "tags": []
   },
   "outputs": [
    {
     "data": {
      "text/plain": [
       "Text(0, 0.5, 'Error Rate')"
      ]
     },
     "execution_count": 19,
     "metadata": {},
     "output_type": "execute_result"
    },
    {
     "data": {
      "image/png": "[encoded data removed]",
      "text/plain": [
       "<Figure size 720x432 with 1 Axes>"
      ]
     },
     "metadata": {
      "needs_background": "light"
     },
     "output_type": "display_data"
    }
   ],
   "source": [
    "plt.figure(figsize=(10,6))\n",
    "plt.plot(range(1,40),error_rate,color='blue', linestyle='dashed', marker='o',\n",
    "         markerfacecolor='red', markersize=10)\n",
    "plt.title('Error Rate vs. K Value')\n",
    "plt.xlabel('K')\n",
    "plt.ylabel('Error Rate')"
   ]
  },
  {
   "cell_type": "code",
   "execution_count": 20,
   "id": "9e736a95",
   "metadata": {
    "execution": {
     "iopub.execute_input": "2022-07-18T17:44:24.746501Z",
     "iopub.status.busy": "2022-07-18T17:44:24.746125Z",
     "iopub.status.idle": "2022-07-18T17:44:24.774605Z",
     "shell.execute_reply": "2022-07-18T17:44:24.772974Z"
    },
    "papermill": {
     "duration": 0.037595,
     "end_time": "2022-07-18T17:44:24.777446",
     "exception": false,
     "start_time": "2022-07-18T17:44:24.739851",
     "status": "completed"
    },
    "tags": []
   },
   "outputs": [
    {
     "name": "stdout",
     "output_type": "stream",
     "text": [
      "WITH K=30\n",
      "\n",
      "\n",
      "[[124  28]\n",
      " [ 23 125]]\n",
      "\n",
      "\n",
      "              precision    recall  f1-score   support\n",
      "\n",
      "           0       0.84      0.82      0.83       152\n",
      "           1       0.82      0.84      0.83       148\n",
      "\n",
      "    accuracy                           0.83       300\n",
      "   macro avg       0.83      0.83      0.83       300\n",
      "weighted avg       0.83      0.83      0.83       300\n",
      "\n"
     ]
    }
   ],
   "source": [
    "# NOW WITH K=30\n",
    "knn = KNeighborsClassifier(n_neighbors=30)\n",
    "\n",
    "knn.fit(X_train,y_train)\n",
    "pred = knn.predict(X_test)\n",
    "\n",
    "print('WITH K=30')\n",
    "print('\\n')\n",
    "print(confusion_matrix(y_test,pred))\n",
    "print('\\n')\n",
    "print(classification_report(y_test,pred))"
   ]
  },
  {
   "cell_type": "code",
   "execution_count": null,
   "id": "de0a58f9",
   "metadata": {
    "papermill": {
     "duration": 0.005401,
     "end_time": "2022-07-18T17:44:24.788315",
     "exception": false,
     "start_time": "2022-07-18T17:44:24.782914",
     "status": "completed"
    },
    "tags": []
   },
   "outputs": [],
   "source": []
  }
 ],
 "metadata": {
  "kernelspec": {
   "display_name": "Python 3",
   "language": "python",
   "name": "python3"
  },
  "language_info": {
   "codemirror_mode": {
    "name": "ipython",
    "version": 3
   },
   "file_extension": ".py",
   "mimetype": "text/x-python",
   "name": "python",
   "nbconvert_exporter": "python",
   "pygments_lexer": "ipython3",
   "version": "3.7.12"
  },
  "papermill": {
   "default_parameters": {},
   "duration": 12.64745,
   "end_time": "2022-07-18T17:44:25.515521",
   "environment_variables": {},
   "exception": null,
   "input_path": "__notebook__.ipynb",
   "output_path": "__notebook__.ipynb",
   "parameters": {},
   "start_time": "2022-07-18T17:44:12.868071",
   "version": "2.3.4"
  }
 },
 "nbformat": 4,
 "nbformat_minor": 5
}
