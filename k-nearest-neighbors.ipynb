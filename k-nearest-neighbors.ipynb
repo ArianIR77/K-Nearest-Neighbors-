{
 "cells": [
  {
   "cell_type": "code",
   "execution_count": 1,
   "id": "6fd7874a",
   "metadata": {
    "_cell_guid": "b1076dfc-b9ad-4769-8c92-a6c4dae69d19",
    "_uuid": "8f2839f25d086af736a60e9eeb907d3b93b6e0e5",
    "execution": {
     "iopub.execute_input": "2022-07-18T17:35:03.960044Z",
     "iopub.status.busy": "2022-07-18T17:35:03.959010Z",
     "iopub.status.idle": "2022-07-18T17:35:03.979988Z",
     "shell.execute_reply": "2022-07-18T17:35:03.978912Z"
    },
    "papermill": {
     "duration": 0.04254,
     "end_time": "2022-07-18T17:35:03.982654",
     "exception": false,
     "start_time": "2022-07-18T17:35:03.940114",
     "status": "completed"
    },
    "tags": []
   },
   "outputs": [
    {
     "name": "stdout",
     "output_type": "stream",
     "text": [
      "/kaggle/input/classified-data/Classified Data\n"
     ]
    }
   ],
   "source": [
    "# This Python 3 environment comes with many helpful analytics libraries installed\n",
    "# It is defined by the kaggle/python Docker image: https://github.com/kaggle/docker-python\n",
    "# For example, here's several helpful packages to load\n",
    "\n",
    "import numpy as np # linear algebra\n",
    "import pandas as pd # data processing, CSV file I/O (e.g. pd.read_csv)\n",
    "\n",
    "# Input data files are available in the read-only \"../input/\" directory\n",
    "# For example, running this (by clicking run or pressing Shift+Enter) will list all files under the input directory\n",
    "\n",
    "import os\n",
    "for dirname, _, filenames in os.walk('/kaggle/input'):\n",
    "    for filename in filenames:\n",
    "        print(os.path.join(dirname, filename))\n",
    "\n",
    "# You can write up to 20GB to the current directory (/kaggle/working/) that gets preserved as output when you create a version using \"Save & Run All\" \n",
    "# You can also write temporary files to /kaggle/temp/, but they won't be saved outside of the current session"
   ]
  },
  {
   "cell_type": "code",
   "execution_count": 2,
   "id": "1554b3c0",
   "metadata": {
    "execution": {
     "iopub.execute_input": "2022-07-18T17:35:03.999751Z",
     "iopub.status.busy": "2022-07-18T17:35:03.999138Z",
     "iopub.status.idle": "2022-07-18T17:35:05.045468Z",
     "shell.execute_reply": "2022-07-18T17:35:05.044304Z"
    },
    "papermill": {
     "duration": 1.057521,
     "end_time": "2022-07-18T17:35:05.048116",
     "exception": false,
     "start_time": "2022-07-18T17:35:03.990595",
     "status": "completed"
    },
    "tags": []
   },
   "outputs": [],
   "source": [
    "import pandas as pd\n",
    "import seaborn as sns\n",
    "import matplotlib.pyplot as plt\n",
    "import numpy as np\n",
    "%matplotlib inline"
   ]
  },
  {
   "cell_type": "code",
   "execution_count": 3,
   "id": "9a153d22",
   "metadata": {
    "execution": {
     "iopub.execute_input": "2022-07-18T17:35:05.063612Z",
     "iopub.status.busy": "2022-07-18T17:35:05.063246Z",
     "iopub.status.idle": "2022-07-18T17:35:05.083732Z",
     "shell.execute_reply": "2022-07-18T17:35:05.082850Z"
    },
    "papermill": {
     "duration": 0.030911,
     "end_time": "2022-07-18T17:35:05.086001",
     "exception": false,
     "start_time": "2022-07-18T17:35:05.055090",
     "status": "completed"
    },
    "tags": []
   },
   "outputs": [],
   "source": [
    "df = pd.read_csv('../input/classified-data/Classified Data')"
   ]
  },
  {
   "cell_type": "code",
   "execution_count": 4,
   "id": "79d46e18",
   "metadata": {
    "execution": {
     "iopub.execute_input": "2022-07-18T17:35:05.101904Z",
     "iopub.status.busy": "2022-07-18T17:35:05.101204Z",
     "iopub.status.idle": "2022-07-18T17:35:05.124482Z",
     "shell.execute_reply": "2022-07-18T17:35:05.123486Z"
    },
    "papermill": {
     "duration": 0.033892,
     "end_time": "2022-07-18T17:35:05.126895",
     "exception": false,
     "start_time": "2022-07-18T17:35:05.093003",
     "status": "completed"
    },
    "tags": []
   },
   "outputs": [
    {
     "data": {
      "text/html": [
       "<div>\n",
       "<style scoped>\n",
       "    .dataframe tbody tr th:only-of-type {\n",
       "        vertical-align: middle;\n",
       "    }\n",
       "\n",
       "    .dataframe tbody tr th {\n",
       "        vertical-align: top;\n",
       "    }\n",
       "\n",
       "    .dataframe thead th {\n",
       "        text-align: right;\n",
       "    }\n",
       "</style>\n",
       "<table border=\"1\" class=\"dataframe\">\n",
       "  <thead>\n",
       "    <tr style=\"text-align: right;\">\n",
       "      <th></th>\n",
       "      <th>Unnamed: 0</th>\n",
       "      <th>WTT</th>\n",
       "      <th>PTI</th>\n",
       "      <th>EQW</th>\n",
       "      <th>SBI</th>\n",
       "      <th>LQE</th>\n",
       "      <th>QWG</th>\n",
       "      <th>FDJ</th>\n",
       "      <th>PJF</th>\n",
       "      <th>HQE</th>\n",
       "      <th>NXJ</th>\n",
       "      <th>TARGET CLASS</th>\n",
       "    </tr>\n",
       "  </thead>\n",
       "  <tbody>\n",
       "    <tr>\n",
       "      <th>0</th>\n",
       "      <td>0</td>\n",
       "      <td>0.913917</td>\n",
       "      <td>1.162073</td>\n",
       "      <td>0.567946</td>\n",
       "      <td>0.755464</td>\n",
       "      <td>0.780862</td>\n",
       "      <td>0.352608</td>\n",
       "      <td>0.759697</td>\n",
       "      <td>0.643798</td>\n",
       "      <td>0.879422</td>\n",
       "      <td>1.231409</td>\n",
       "      <td>1</td>\n",
       "    </tr>\n",
       "    <tr>\n",
       "      <th>1</th>\n",
       "      <td>1</td>\n",
       "      <td>0.635632</td>\n",
       "      <td>1.003722</td>\n",
       "      <td>0.535342</td>\n",
       "      <td>0.825645</td>\n",
       "      <td>0.924109</td>\n",
       "      <td>0.648450</td>\n",
       "      <td>0.675334</td>\n",
       "      <td>1.013546</td>\n",
       "      <td>0.621552</td>\n",
       "      <td>1.492702</td>\n",
       "      <td>0</td>\n",
       "    </tr>\n",
       "    <tr>\n",
       "      <th>2</th>\n",
       "      <td>2</td>\n",
       "      <td>0.721360</td>\n",
       "      <td>1.201493</td>\n",
       "      <td>0.921990</td>\n",
       "      <td>0.855595</td>\n",
       "      <td>1.526629</td>\n",
       "      <td>0.720781</td>\n",
       "      <td>1.626351</td>\n",
       "      <td>1.154483</td>\n",
       "      <td>0.957877</td>\n",
       "      <td>1.285597</td>\n",
       "      <td>0</td>\n",
       "    </tr>\n",
       "    <tr>\n",
       "      <th>3</th>\n",
       "      <td>3</td>\n",
       "      <td>1.234204</td>\n",
       "      <td>1.386726</td>\n",
       "      <td>0.653046</td>\n",
       "      <td>0.825624</td>\n",
       "      <td>1.142504</td>\n",
       "      <td>0.875128</td>\n",
       "      <td>1.409708</td>\n",
       "      <td>1.380003</td>\n",
       "      <td>1.522692</td>\n",
       "      <td>1.153093</td>\n",
       "      <td>1</td>\n",
       "    </tr>\n",
       "    <tr>\n",
       "      <th>4</th>\n",
       "      <td>4</td>\n",
       "      <td>1.279491</td>\n",
       "      <td>0.949750</td>\n",
       "      <td>0.627280</td>\n",
       "      <td>0.668976</td>\n",
       "      <td>1.232537</td>\n",
       "      <td>0.703727</td>\n",
       "      <td>1.115596</td>\n",
       "      <td>0.646691</td>\n",
       "      <td>1.463812</td>\n",
       "      <td>1.419167</td>\n",
       "      <td>1</td>\n",
       "    </tr>\n",
       "  </tbody>\n",
       "</table>\n",
       "</div>"
      ],
      "text/plain": [
       "   Unnamed: 0       WTT       PTI       EQW       SBI       LQE       QWG  \\\n",
       "0           0  0.913917  1.162073  0.567946  0.755464  0.780862  0.352608   \n",
       "1           1  0.635632  1.003722  0.535342  0.825645  0.924109  0.648450   \n",
       "2           2  0.721360  1.201493  0.921990  0.855595  1.526629  0.720781   \n",
       "3           3  1.234204  1.386726  0.653046  0.825624  1.142504  0.875128   \n",
       "4           4  1.279491  0.949750  0.627280  0.668976  1.232537  0.703727   \n",
       "\n",
       "        FDJ       PJF       HQE       NXJ  TARGET CLASS  \n",
       "0  0.759697  0.643798  0.879422  1.231409             1  \n",
       "1  0.675334  1.013546  0.621552  1.492702             0  \n",
       "2  1.626351  1.154483  0.957877  1.285597             0  \n",
       "3  1.409708  1.380003  1.522692  1.153093             1  \n",
       "4  1.115596  0.646691  1.463812  1.419167             1  "
      ]
     },
     "execution_count": 4,
     "metadata": {},
     "output_type": "execute_result"
    }
   ],
   "source": [
    "df.head()"
   ]
  },
  {
   "cell_type": "code",
   "execution_count": 5,
   "id": "e0560aac",
   "metadata": {
    "execution": {
     "iopub.execute_input": "2022-07-18T17:35:05.142967Z",
     "iopub.status.busy": "2022-07-18T17:35:05.142119Z",
     "iopub.status.idle": "2022-07-18T17:35:05.167926Z",
     "shell.execute_reply": "2022-07-18T17:35:05.166315Z"
    },
    "papermill": {
     "duration": 0.037205,
     "end_time": "2022-07-18T17:35:05.171284",
     "exception": false,
     "start_time": "2022-07-18T17:35:05.134079",
     "status": "completed"
    },
    "tags": []
   },
   "outputs": [
    {
     "name": "stdout",
     "output_type": "stream",
     "text": [
      "<class 'pandas.core.frame.DataFrame'>\n",
      "RangeIndex: 1000 entries, 0 to 999\n",
      "Data columns (total 12 columns):\n",
      " #   Column        Non-Null Count  Dtype  \n",
      "---  ------        --------------  -----  \n",
      " 0   Unnamed: 0    1000 non-null   int64  \n",
      " 1   WTT           1000 non-null   float64\n",
      " 2   PTI           1000 non-null   float64\n",
      " 3   EQW           1000 non-null   float64\n",
      " 4   SBI           1000 non-null   float64\n",
      " 5   LQE           1000 non-null   float64\n",
      " 6   QWG           1000 non-null   float64\n",
      " 7   FDJ           1000 non-null   float64\n",
      " 8   PJF           1000 non-null   float64\n",
      " 9   HQE           1000 non-null   float64\n",
      " 10  NXJ           1000 non-null   float64\n",
      " 11  TARGET CLASS  1000 non-null   int64  \n",
      "dtypes: float64(10), int64(2)\n",
      "memory usage: 93.9 KB\n"
     ]
    }
   ],
   "source": [
    "df.info()"
   ]
  },
  {
   "cell_type": "code",
   "execution_count": 6,
   "id": "472023b3",
   "metadata": {
    "execution": {
     "iopub.execute_input": "2022-07-18T17:35:05.187704Z",
     "iopub.status.busy": "2022-07-18T17:35:05.187135Z",
     "iopub.status.idle": "2022-07-18T17:35:05.314751Z",
     "shell.execute_reply": "2022-07-18T17:35:05.313644Z"
    },
    "papermill": {
     "duration": 0.138377,
     "end_time": "2022-07-18T17:35:05.317418",
     "exception": false,
     "start_time": "2022-07-18T17:35:05.179041",
     "status": "completed"
    },
    "tags": []
   },
   "outputs": [],
   "source": [
    "from sklearn.preprocessing import StandardScaler"
   ]
  },
  {
   "cell_type": "code",
   "execution_count": 7,
   "id": "d24fe601",
   "metadata": {
    "execution": {
     "iopub.execute_input": "2022-07-18T17:35:05.333194Z",
     "iopub.status.busy": "2022-07-18T17:35:05.332859Z",
     "iopub.status.idle": "2022-07-18T17:35:05.337109Z",
     "shell.execute_reply": "2022-07-18T17:35:05.336103Z"
    },
    "papermill": {
     "duration": 0.014389,
     "end_time": "2022-07-18T17:35:05.339056",
     "exception": false,
     "start_time": "2022-07-18T17:35:05.324667",
     "status": "completed"
    },
    "tags": []
   },
   "outputs": [],
   "source": [
    "scaler = StandardScaler()"
   ]
  },
  {
   "cell_type": "code",
   "execution_count": 8,
   "id": "eb110f96",
   "metadata": {
    "execution": {
     "iopub.execute_input": "2022-07-18T17:35:05.354464Z",
     "iopub.status.busy": "2022-07-18T17:35:05.353850Z",
     "iopub.status.idle": "2022-07-18T17:35:05.412053Z",
     "shell.execute_reply": "2022-07-18T17:35:05.411096Z"
    },
    "papermill": {
     "duration": 0.068922,
     "end_time": "2022-07-18T17:35:05.414614",
     "exception": false,
     "start_time": "2022-07-18T17:35:05.345692",
     "status": "completed"
    },
    "tags": []
   },
   "outputs": [],
   "source": [
    "from sklearn.model_selection import train_test_split"
   ]
  },
  {
   "cell_type": "code",
   "execution_count": 9,
   "id": "c5d638cc",
   "metadata": {
    "execution": {
     "iopub.execute_input": "2022-07-18T17:35:05.430313Z",
     "iopub.status.busy": "2022-07-18T17:35:05.429947Z",
     "iopub.status.idle": "2022-07-18T17:35:05.436915Z",
     "shell.execute_reply": "2022-07-18T17:35:05.436152Z"
    },
    "papermill": {
     "duration": 0.017575,
     "end_time": "2022-07-18T17:35:05.439268",
     "exception": false,
     "start_time": "2022-07-18T17:35:05.421693",
     "status": "completed"
    },
    "tags": []
   },
   "outputs": [],
   "source": [
    "X= df.drop('TARGET CLASS',axis=1)\n",
    "y= df['TARGET CLASS']"
   ]
  },
  {
   "cell_type": "code",
   "execution_count": 10,
   "id": "6b4100c0",
   "metadata": {
    "execution": {
     "iopub.execute_input": "2022-07-18T17:35:05.455148Z",
     "iopub.status.busy": "2022-07-18T17:35:05.454774Z",
     "iopub.status.idle": "2022-07-18T17:35:05.461506Z",
     "shell.execute_reply": "2022-07-18T17:35:05.460670Z"
    },
    "papermill": {
     "duration": 0.017556,
     "end_time": "2022-07-18T17:35:05.463908",
     "exception": false,
     "start_time": "2022-07-18T17:35:05.446352",
     "status": "completed"
    },
    "tags": []
   },
   "outputs": [],
   "source": [
    "X_train, X_test, y_train, y_test = train_test_split(X, y, test_size=0.3, random_state=101)"
   ]
  },
  {
   "cell_type": "code",
   "execution_count": 11,
   "id": "d7631161",
   "metadata": {
    "execution": {
     "iopub.execute_input": "2022-07-18T17:35:05.480036Z",
     "iopub.status.busy": "2022-07-18T17:35:05.479686Z",
     "iopub.status.idle": "2022-07-18T17:35:05.487421Z",
     "shell.execute_reply": "2022-07-18T17:35:05.486471Z"
    },
    "papermill": {
     "duration": 0.018403,
     "end_time": "2022-07-18T17:35:05.489519",
     "exception": false,
     "start_time": "2022-07-18T17:35:05.471116",
     "status": "completed"
    },
    "tags": []
   },
   "outputs": [],
   "source": [
    "X_train=scaler.fit_transform(X_train)"
   ]
  },
  {
   "cell_type": "code",
   "execution_count": 12,
   "id": "238fce0c",
   "metadata": {
    "execution": {
     "iopub.execute_input": "2022-07-18T17:35:05.505741Z",
     "iopub.status.busy": "2022-07-18T17:35:05.505372Z",
     "iopub.status.idle": "2022-07-18T17:35:05.512154Z",
     "shell.execute_reply": "2022-07-18T17:35:05.511132Z"
    },
    "papermill": {
     "duration": 0.017335,
     "end_time": "2022-07-18T17:35:05.514175",
     "exception": false,
     "start_time": "2022-07-18T17:35:05.496840",
     "status": "completed"
    },
    "tags": []
   },
   "outputs": [],
   "source": [
    "X_test = scaler.transform(X_test)"
   ]
  },
  {
   "cell_type": "code",
   "execution_count": 13,
   "id": "730b2afd",
   "metadata": {
    "execution": {
     "iopub.execute_input": "2022-07-18T17:35:05.530305Z",
     "iopub.status.busy": "2022-07-18T17:35:05.529512Z",
     "iopub.status.idle": "2022-07-18T17:35:05.655578Z",
     "shell.execute_reply": "2022-07-18T17:35:05.654472Z"
    },
    "papermill": {
     "duration": 0.137114,
     "end_time": "2022-07-18T17:35:05.658393",
     "exception": false,
     "start_time": "2022-07-18T17:35:05.521279",
     "status": "completed"
    },
    "tags": []
   },
   "outputs": [],
   "source": [
    "from sklearn.neighbors import KNeighborsClassifier"
   ]
  },
  {
   "cell_type": "code",
   "execution_count": 14,
   "id": "83bf0d7f",
   "metadata": {
    "execution": {
     "iopub.execute_input": "2022-07-18T17:35:05.675061Z",
     "iopub.status.busy": "2022-07-18T17:35:05.674405Z",
     "iopub.status.idle": "2022-07-18T17:35:05.678689Z",
     "shell.execute_reply": "2022-07-18T17:35:05.677955Z"
    },
    "papermill": {
     "duration": 0.014741,
     "end_time": "2022-07-18T17:35:05.680791",
     "exception": false,
     "start_time": "2022-07-18T17:35:05.666050",
     "status": "completed"
    },
    "tags": []
   },
   "outputs": [],
   "source": [
    "knn = KNeighborsClassifier(n_neighbors=1)"
   ]
  },
  {
   "cell_type": "code",
   "execution_count": 15,
   "id": "09b1add2",
   "metadata": {
    "execution": {
     "iopub.execute_input": "2022-07-18T17:35:05.696845Z",
     "iopub.status.busy": "2022-07-18T17:35:05.696112Z",
     "iopub.status.idle": "2022-07-18T17:35:05.705602Z",
     "shell.execute_reply": "2022-07-18T17:35:05.704923Z"
    },
    "papermill": {
     "duration": 0.019584,
     "end_time": "2022-07-18T17:35:05.707625",
     "exception": false,
     "start_time": "2022-07-18T17:35:05.688041",
     "status": "completed"
    },
    "tags": []
   },
   "outputs": [
    {
     "data": {
      "text/plain": [
       "KNeighborsClassifier(n_neighbors=1)"
      ]
     },
     "execution_count": 15,
     "metadata": {},
     "output_type": "execute_result"
    }
   ],
   "source": [
    "knn.fit(X_train,y_train)"
   ]
  },
  {
   "cell_type": "code",
   "execution_count": 16,
   "id": "7297e578",
   "metadata": {
    "execution": {
     "iopub.execute_input": "2022-07-18T17:35:05.724220Z",
     "iopub.status.busy": "2022-07-18T17:35:05.723334Z",
     "iopub.status.idle": "2022-07-18T17:35:05.741523Z",
     "shell.execute_reply": "2022-07-18T17:35:05.740791Z"
    },
    "papermill": {
     "duration": 0.028548,
     "end_time": "2022-07-18T17:35:05.743676",
     "exception": false,
     "start_time": "2022-07-18T17:35:05.715128",
     "status": "completed"
    },
    "tags": []
   },
   "outputs": [],
   "source": [
    "pred = knn.predict(X_test)"
   ]
  },
  {
   "cell_type": "code",
   "execution_count": 17,
   "id": "3a0d5aab",
   "metadata": {
    "execution": {
     "iopub.execute_input": "2022-07-18T17:35:05.760755Z",
     "iopub.status.busy": "2022-07-18T17:35:05.760337Z",
     "iopub.status.idle": "2022-07-18T17:35:05.765252Z",
     "shell.execute_reply": "2022-07-18T17:35:05.764290Z"
    },
    "papermill": {
     "duration": 0.015835,
     "end_time": "2022-07-18T17:35:05.767361",
     "exception": false,
     "start_time": "2022-07-18T17:35:05.751526",
     "status": "completed"
    },
    "tags": []
   },
   "outputs": [],
   "source": [
    "from sklearn.metrics import classification_report,confusion_matrix"
   ]
  },
  {
   "cell_type": "code",
   "execution_count": 18,
   "id": "b89f2a28",
   "metadata": {
    "execution": {
     "iopub.execute_input": "2022-07-18T17:35:05.783560Z",
     "iopub.status.busy": "2022-07-18T17:35:05.783240Z",
     "iopub.status.idle": "2022-07-18T17:35:05.791252Z",
     "shell.execute_reply": "2022-07-18T17:35:05.790221Z"
    },
    "papermill": {
     "duration": 0.01933,
     "end_time": "2022-07-18T17:35:05.794026",
     "exception": false,
     "start_time": "2022-07-18T17:35:05.774696",
     "status": "completed"
    },
    "tags": []
   },
   "outputs": [
    {
     "name": "stdout",
     "output_type": "stream",
     "text": [
      "[[145  14]\n",
      " [ 12 129]]\n"
     ]
    }
   ],
   "source": [
    "print(confusion_matrix(y_test,pred))"
   ]
  },
  {
   "cell_type": "code",
   "execution_count": 19,
   "id": "9c552fa5",
   "metadata": {
    "execution": {
     "iopub.execute_input": "2022-07-18T17:35:05.811591Z",
     "iopub.status.busy": "2022-07-18T17:35:05.811232Z",
     "iopub.status.idle": "2022-07-18T17:35:05.822430Z",
     "shell.execute_reply": "2022-07-18T17:35:05.820843Z"
    },
    "papermill": {
     "duration": 0.022774,
     "end_time": "2022-07-18T17:35:05.825340",
     "exception": false,
     "start_time": "2022-07-18T17:35:05.802566",
     "status": "completed"
    },
    "tags": []
   },
   "outputs": [
    {
     "name": "stdout",
     "output_type": "stream",
     "text": [
      "              precision    recall  f1-score   support\n",
      "\n",
      "           0       0.92      0.91      0.92       159\n",
      "           1       0.90      0.91      0.91       141\n",
      "\n",
      "    accuracy                           0.91       300\n",
      "   macro avg       0.91      0.91      0.91       300\n",
      "weighted avg       0.91      0.91      0.91       300\n",
      "\n"
     ]
    }
   ],
   "source": [
    "print(classification_report(y_test,pred))"
   ]
  },
  {
   "cell_type": "code",
   "execution_count": 20,
   "id": "f4291929",
   "metadata": {
    "execution": {
     "iopub.execute_input": "2022-07-18T17:35:05.842274Z",
     "iopub.status.busy": "2022-07-18T17:35:05.841496Z",
     "iopub.status.idle": "2022-07-18T17:35:06.524790Z",
     "shell.execute_reply": "2022-07-18T17:35:06.523512Z"
    },
    "papermill": {
     "duration": 0.694224,
     "end_time": "2022-07-18T17:35:06.527354",
     "exception": false,
     "start_time": "2022-07-18T17:35:05.833130",
     "status": "completed"
    },
    "tags": []
   },
   "outputs": [],
   "source": [
    "error_rate = []\n",
    "\n",
    "for i in range(1,40):\n",
    "    \n",
    "    knn = KNeighborsClassifier(n_neighbors=i)\n",
    "    knn.fit(X_train,y_train)\n",
    "    pred_i = knn.predict(X_test)\n",
    "    error_rate.append(np.mean(pred_i != y_test))"
   ]
  },
  {
   "cell_type": "code",
   "execution_count": 21,
   "id": "3cd4854a",
   "metadata": {
    "execution": {
     "iopub.execute_input": "2022-07-18T17:35:06.544214Z",
     "iopub.status.busy": "2022-07-18T17:35:06.543866Z",
     "iopub.status.idle": "2022-07-18T17:35:06.739942Z",
     "shell.execute_reply": "2022-07-18T17:35:06.738954Z"
    },
    "papermill": {
     "duration": 0.207409,
     "end_time": "2022-07-18T17:35:06.742403",
     "exception": false,
     "start_time": "2022-07-18T17:35:06.534994",
     "status": "completed"
    },
    "tags": []
   },
   "outputs": [
    {
     "data": {
      "text/plain": [
       "Text(0, 0.5, 'Error Rate')"
      ]
     },
     "execution_count": 21,
     "metadata": {},
     "output_type": "execute_result"
    },
    {
     "data": {
      "image/png": "[encoded data removed]",
      "text/plain": [
       "<Figure size 720x432 with 1 Axes>"
      ]
     },
     "metadata": {
      "needs_background": "light"
     },
     "output_type": "display_data"
    }
   ],
   "source": [
    "plt.figure(figsize=(10,6))\n",
    "plt.plot(range(1,40),error_rate,color='blue', linestyle='dashed', marker='o',\n",
    "         markerfacecolor='red', markersize=10)\n",
    "plt.title('Error Rate vs. K Value')\n",
    "plt.xlabel('K')\n",
    "plt.ylabel('Error Rate')"
   ]
  },
  {
   "cell_type": "code",
   "execution_count": 22,
   "id": "e9768b84",
   "metadata": {
    "execution": {
     "iopub.execute_input": "2022-07-18T17:35:06.760400Z",
     "iopub.status.busy": "2022-07-18T17:35:06.760027Z",
     "iopub.status.idle": "2022-07-18T17:35:06.787950Z",
     "shell.execute_reply": "2022-07-18T17:35:06.786428Z"
    },
    "papermill": {
     "duration": 0.039657,
     "end_time": "2022-07-18T17:35:06.790304",
     "exception": false,
     "start_time": "2022-07-18T17:35:06.750647",
     "status": "completed"
    },
    "tags": []
   },
   "outputs": [
    {
     "name": "stdout",
     "output_type": "stream",
     "text": [
      "WITH K=1\n",
      "\n",
      "\n",
      "[[145  14]\n",
      " [ 12 129]]\n",
      "\n",
      "\n",
      "              precision    recall  f1-score   support\n",
      "\n",
      "           0       0.92      0.91      0.92       159\n",
      "           1       0.90      0.91      0.91       141\n",
      "\n",
      "    accuracy                           0.91       300\n",
      "   macro avg       0.91      0.91      0.91       300\n",
      "weighted avg       0.91      0.91      0.91       300\n",
      "\n"
     ]
    }
   ],
   "source": [
    "# FIRST A QUICK COMPARISON TO OUR ORIGINAL K=1\n",
    "knn = KNeighborsClassifier(n_neighbors=1)\n",
    "\n",
    "knn.fit(X_train,y_train)\n",
    "pred = knn.predict(X_test)\n",
    "\n",
    "print('WITH K=1')\n",
    "print('\\n')\n",
    "print(confusion_matrix(y_test,pred))\n",
    "print('\\n')\n",
    "print(classification_report(y_test,pred))"
   ]
  },
  {
   "cell_type": "code",
   "execution_count": 23,
   "id": "fcce84af",
   "metadata": {
    "execution": {
     "iopub.execute_input": "2022-07-18T17:35:06.809031Z",
     "iopub.status.busy": "2022-07-18T17:35:06.807866Z",
     "iopub.status.idle": "2022-07-18T17:35:06.839155Z",
     "shell.execute_reply": "2022-07-18T17:35:06.837701Z"
    },
    "papermill": {
     "duration": 0.042928,
     "end_time": "2022-07-18T17:35:06.841429",
     "exception": false,
     "start_time": "2022-07-18T17:35:06.798501",
     "status": "completed"
    },
    "tags": []
   },
   "outputs": [
    {
     "name": "stdout",
     "output_type": "stream",
     "text": [
      "WITH K=23\n",
      "\n",
      "\n",
      "[[153   6]\n",
      " [  7 134]]\n",
      "\n",
      "\n",
      "              precision    recall  f1-score   support\n",
      "\n",
      "           0       0.96      0.96      0.96       159\n",
      "           1       0.96      0.95      0.95       141\n",
      "\n",
      "    accuracy                           0.96       300\n",
      "   macro avg       0.96      0.96      0.96       300\n",
      "weighted avg       0.96      0.96      0.96       300\n",
      "\n"
     ]
    }
   ],
   "source": [
    "# NOW WITH K=23\n",
    "knn = KNeighborsClassifier(n_neighbors=30)\n",
    "\n",
    "knn.fit(X_train,y_train)\n",
    "pred = knn.predict(X_test)\n",
    "\n",
    "print('WITH K=23')\n",
    "print('\\n')\n",
    "print(confusion_matrix(y_test,pred))\n",
    "print('\\n')\n",
    "print(classification_report(y_test,pred))"
   ]
  },
  {
   "cell_type": "code",
   "execution_count": null,
   "id": "0b158ab3",
   "metadata": {
    "papermill": {
     "duration": 0.0079,
     "end_time": "2022-07-18T17:35:06.857527",
     "exception": false,
     "start_time": "2022-07-18T17:35:06.849627",
     "status": "completed"
    },
    "tags": []
   },
   "outputs": [],
   "source": []
  }
 ],
 "metadata": {
  "kernelspec": {
   "display_name": "Python 3",
   "language": "python",
   "name": "python3"
  },
  "language_info": {
   "codemirror_mode": {
    "name": "ipython",
    "version": 3
   },
   "file_extension": ".py",
   "mimetype": "text/x-python",
   "name": "python",
   "nbconvert_exporter": "python",
   "pygments_lexer": "ipython3",
   "version": "3.7.12"
  },
  "papermill": {
   "default_parameters": {},
   "duration": 13.052382,
   "end_time": "2022-07-18T17:35:07.586545",
   "environment_variables": {},
   "exception": null,
   "input_path": "__notebook__.ipynb",
   "output_path": "__notebook__.ipynb",
   "parameters": {},
   "start_time": "2022-07-18T17:34:54.534163",
   "version": "2.3.4"
  }
 },
 "nbformat": 4,
 "nbformat_minor": 5
}
